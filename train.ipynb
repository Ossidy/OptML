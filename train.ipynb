{
 "cells": [
  {
   "cell_type": "code",
   "execution_count": 1,
   "metadata": {
    "collapsed": true
   },
   "outputs": [],
   "source": [
    "import torch\n",
    "from torch.autograd import Variable\n",
    "import torch.nn as nn\n",
    "from torch import optim\n",
    "import torch.nn.functional as F\n",
    "import cv2"
   ]
  },
  {
   "cell_type": "code",
   "execution_count": 2,
   "metadata": {
    "collapsed": false
   },
   "outputs": [],
   "source": [
    "%load_ext autoreload\n",
    "%autoreload 2\n",
    "from model import *\n",
    "import dataloader as dl"
   ]
  },
  {
   "cell_type": "code",
   "execution_count": 3,
   "metadata": {
    "collapsed": false
   },
   "outputs": [
    {
     "name": "stderr",
     "output_type": "stream",
     "text": [
      "/home/zhaocheng/Research/DeepOpticsV2/GeomGenerator/dataloader.py:110: FutureWarning: comparison to `None` will result in an elementwise object comparison in the future.\n",
      "  if blob['pattern'] != None:\n"
     ]
    }
   ],
   "source": [
    "data_path = \"/home/zhaocheng/Research/DeepOpticsV2/GeomData/arc\"\n",
    "data_path = \"/home/zhaocheng/Research/DeepOpticsV2/GeomData/GeomData\"\n",
    "dataloader = dl.DataLoader(data_path)\n",
    "# print(dataloader.data_names)"
   ]
  },
  {
   "cell_type": "code",
   "execution_count": 4,
   "metadata": {
    "collapsed": false
   },
   "outputs": [],
   "source": [
    "import numpy as np\n",
    "def recover_img(img, binary=False):\n",
    "    # input: the 2-D tensor image with values from 0 to 1\n",
    "    # output: 2-D greyscale image\n",
    "    img = img * 255\n",
    "    img.astype(np.int8)       \n",
    "    # img = np.stack((img, )*3, -1)\n",
    "    \n",
    "    if binary==True:\n",
    "        # res, img = cv2.threshold(img,127,255,cv2.THRESH_BINARY)\n",
    "        img[img > 127] = 255\n",
    "        img[img <= 127] = 0\n",
    "        \n",
    "    return img\n",
    "    "
   ]
  },
  {
   "cell_type": "code",
   "execution_count": 31,
   "metadata": {
    "collapsed": false
   },
   "outputs": [],
   "source": [
    "def save_model(encoder, decoder, losses=None, savepath='./', name=0):\n",
    "    # save net models\n",
    "    if not os.path.exists(savepath):\n",
    "        os.makedirs(savepath)\n",
    "    \n",
    "    if savepath == './':\n",
    "        path_to_save = savepath + str(name) + '/'\n",
    "    else:\n",
    "        path_to_save = savepath + '/' + str(name) + '/'\n",
    "    print(path_to_save)\n",
    "    \n",
    "    if os.path.exists(path_to_save):\n",
    "        print(\"File path {} has already been created, model will not be save unless delete the directory\".format(savepath + str(name) + '/'))\n",
    "        return 0\n",
    "\n",
    "    os.makedirs(path_to_save)\n",
    "    torch.save(encoder.state_dict(), path_to_save + 'encoder_net.pth')\n",
    "    torch.save(decoder.state_dict(), path_to_save + 'decoder_net.pth')\n",
    "    \n",
    "    if losses:\n",
    "        np.save(path_to_save + \"losses\", losses)\n",
    "\n"
   ]
  },
  {
   "cell_type": "code",
   "execution_count": 34,
   "metadata": {
    "collapsed": false
   },
   "outputs": [],
   "source": [
    "import matplotlib.pyplot as plt\n",
    "from IPython.display import clear_output\n",
    "from tqdm import trange\n",
    "from matplotlib import colors\n",
    "import matplotlib as mpl \n",
    "\n",
    "def train(encode_dim, niters, batchsize, dataloader, save_path=None):\n",
    "    \n",
    "    # define network\n",
    "    encoder = GeomEncoder(encode_dim, 1, 64, 64)\n",
    "    decoder = GeomDecoder(encode_dim, 0, 1, 64, 64)\n",
    "    encoder.cuda()\n",
    "    decoder.cuda()\n",
    "    \n",
    "    optimizer_e = optim.Adam(encoder.parameters(), lr=1e-3) \n",
    "    optimizer_d = optim.Adam(decoder.parameters(), lr=1e-3) \n",
    "    \n",
    "    loss_MSE = nn.MSELoss(size_average=True)\n",
    "    loss_L1 = nn.L1Loss()\n",
    "    \n",
    "    dataiter = dataloader.dataloader(batchsize)\n",
    "    \n",
    "    loss = []\n",
    "    \n",
    "    for n in trange(niters):\n",
    "        input_data = Variable(next(dataiter).cuda(), requires_grad=False)\n",
    "        optimizer_e.zero_grad()\n",
    "        optimizer_d.zero_grad()\n",
    "        \n",
    "        latent = encoder(input_data)\n",
    "        reconst = decoder(latent)\n",
    "        \n",
    "        reconst_loss = loss_MSE(reconst, input_data)\n",
    "        \n",
    "        reconst_loss.backward()\n",
    "        optimizer_e.step()\n",
    "        optimizer_d.step()\n",
    "        \n",
    "        if n % 100 == 0:\n",
    "            if n % 2000 == 0:\n",
    "                if save_path != None:      \n",
    "                    save_model(encoder, decoder, losses=loss, savepath = save_path, name=str(n))\n",
    "                    \n",
    "            loss.append(reconst_loss.cpu().data.numpy()[0])\n",
    "            clear_output(True)\n",
    "            plt.plot(loss)\n",
    "            plt.show()\n",
    "            \n",
    "            # get image and comparison\n",
    "            cmap = mpl.cm.gray\n",
    "            input_img = input_data.cpu().data.numpy()[0,0,:,:]\n",
    "            recon_img = reconst.cpu().data.clamp_(0,1).numpy()[0,0,:,:]\n",
    "            input_img, recon_img = recover_img(input_img), recover_img(recon_img, binary=True)\n",
    "            plt.subplot(1,2,1)\n",
    "            plt.imshow(input_img, cmap=cmap)\n",
    "            plt.subplot(1,2,2)\n",
    "            plt.imshow(recon_img, cmap=cmap)\n",
    "            print(loss[-1])\n",
    "            \n",
    "    return loss"
   ]
  },
  {
   "cell_type": "code",
   "execution_count": 36,
   "metadata": {
    "collapsed": false,
    "scrolled": true
   },
   "outputs": [
    {
     "data": {
      "image/png": "[encoded data removed]",
      "text/plain": [
       "<matplotlib.figure.Figure at 0x7f5bf012f320>"
      ]
     },
     "metadata": {},
     "output_type": "display_data"
    },
    {
     "name": "stderr",
     "output_type": "stream",
     "text": [
      "\r",
      "100%|█████████▉| 19903/20000 [16:28<00:04, 20.14it/s]"
     ]
    },
    {
     "name": "stdout",
     "output_type": "stream",
     "text": [
      "0.0060175\n"
     ]
    },
    {
     "name": "stderr",
     "output_type": "stream",
     "text": [
      "100%|██████████| 20000/20000 [16:32<00:00, 20.14it/s]\n"
     ]
    },
    {
     "data": {
      "text/plain": [
       "[0.64733303,\n",
       " 0.38201517,\n",
       " 0.33695239,\n",
       " 0.33178213,\n",
       " 0.32083851,\n",
       " 0.31683329,\n",
       " 0.32169801,\n",
       " 0.313961,\n",
       " 0.31577861,\n",
       " 0.11358663,\n",
       " 0.031157203,\n",
       " 0.024494292,\n",
       " 0.017497217,\n",
       " 0.017371068,\n",
       " 0.015268993,\n",
       " 0.017512703,\n",
       " 0.015492305,\n",
       " 0.01374163,\n",
       " 0.016369514,\n",
       " 0.014701338,\n",
       " 0.012780679,\n",
       " 0.014941551,\n",
       " 0.014804139,\n",
       " 0.015901862,\n",
       " 0.015191086,\n",
       " 0.012027313,\n",
       " 0.010578487,\n",
       " 0.011737574,\n",
       " 0.015378105,\n",
       " 0.0122819,\n",
       " 0.013752411,\n",
       " 0.013409524,\n",
       " 0.012255116,\n",
       " 0.011916175,\n",
       " 0.011929867,\n",
       " 0.011564194,\n",
       " 0.011889019,\n",
       " 0.011900662,\n",
       " 0.012262403,\n",
       " 0.010983604,\n",
       " 0.012344154,\n",
       " 0.0099182306,\n",
       " 0.012071813,\n",
       " 0.011223952,\n",
       " 0.011228657,\n",
       " 0.011176935,\n",
       " 0.011140113,\n",
       " 0.011187589,\n",
       " 0.011265752,\n",
       " 0.01127901,\n",
       " 0.010737445,\n",
       " 0.0079388507,\n",
       " 0.010616243,\n",
       " 0.0097643621,\n",
       " 0.013712029,\n",
       " 0.0089066885,\n",
       " 0.010050977,\n",
       " 0.0098525966,\n",
       " 0.010502144,\n",
       " 0.0091340104,\n",
       " 0.0095371585,\n",
       " 0.011177558,\n",
       " 0.010765757,\n",
       " 0.0097482186,\n",
       " 0.010161287,\n",
       " 0.0099472636,\n",
       " 0.0083002588,\n",
       " 0.0098546231,\n",
       " 0.0087310597,\n",
       " 0.010468837,\n",
       " 0.0093371496,\n",
       " 0.0079475651,\n",
       " 0.0076360186,\n",
       " 0.0087461984,\n",
       " 0.0077597001,\n",
       " 0.010145967,\n",
       " 0.0092086336,\n",
       " 0.0079143671,\n",
       " 0.0080399076,\n",
       " 0.010027761,\n",
       " 0.011718179,\n",
       " 0.0089097312,\n",
       " 0.010906996,\n",
       " 0.0092418091,\n",
       " 0.0088369502,\n",
       " 0.0082673235,\n",
       " 0.0074060336,\n",
       " 0.0084902951,\n",
       " 0.008497769,\n",
       " 0.0084348815,\n",
       " 0.0074225138,\n",
       " 0.0084557608,\n",
       " 0.0069808103,\n",
       " 0.0088992044,\n",
       " 0.0069725001,\n",
       " 0.0086221332,\n",
       " 0.0091510471,\n",
       " 0.0071637244,\n",
       " 0.0074881441,\n",
       " 0.0074923555,\n",
       " 0.009420502,\n",
       " 0.00864112,\n",
       " 0.0076289093,\n",
       " 0.007920919,\n",
       " 0.006642485,\n",
       " 0.006122733,\n",
       " 0.0069510518,\n",
       " 0.0076451818,\n",
       " 0.0068223295,\n",
       " 0.0081960121,\n",
       " 0.0073717646,\n",
       " 0.0074855401,\n",
       " 0.0074395221,\n",
       " 0.007711241,\n",
       " 0.0066323671,\n",
       " 0.0061241528,\n",
       " 0.0078262724,\n",
       " 0.008080326,\n",
       " 0.008139113,\n",
       " 0.0063292431,\n",
       " 0.0072060614,\n",
       " 0.0070407917,\n",
       " 0.0074252742,\n",
       " 0.0065771863,\n",
       " 0.0069048833,\n",
       " 0.0073461873,\n",
       " 0.0067412853,\n",
       " 0.0069296435,\n",
       " 0.0064825597,\n",
       " 0.007219404,\n",
       " 0.0068469266,\n",
       " 0.0077704703,\n",
       " 0.0069724596,\n",
       " 0.006826635,\n",
       " 0.008205818,\n",
       " 0.0075009903,\n",
       " 0.0068179113,\n",
       " 0.0066721505,\n",
       " 0.0067604701,\n",
       " 0.0072013806,\n",
       " 0.0073118275,\n",
       " 0.0074111787,\n",
       " 0.0076078796,\n",
       " 0.0071833902,\n",
       " 0.0061519635,\n",
       " 0.0068201753,\n",
       " 0.0059591769,\n",
       " 0.0064401496,\n",
       " 0.0066616861,\n",
       " 0.0053854538,\n",
       " 0.0061045592,\n",
       " 0.0068218331,\n",
       " 0.0058499253,\n",
       " 0.0070739207,\n",
       " 0.0069165751,\n",
       " 0.0058074463,\n",
       " 0.0076364712,\n",
       " 0.0061630495,\n",
       " 0.0066662608,\n",
       " 0.0060664117,\n",
       " 0.0064996374,\n",
       " 0.0055533308,\n",
       " 0.0061474051,\n",
       " 0.0064429529,\n",
       " 0.0064313714,\n",
       " 0.0058432003,\n",
       " 0.005495599,\n",
       " 0.0068134768,\n",
       " 0.006342161,\n",
       " 0.0062614791,\n",
       " 0.0075105983,\n",
       " 0.0060796211,\n",
       " 0.0055651711,\n",
       " 0.0053329538,\n",
       " 0.0052894801,\n",
       " 0.0050693392,\n",
       " 0.0058996645,\n",
       " 0.0057691596,\n",
       " 0.0052890265,\n",
       " 0.0060661994,\n",
       " 0.0053344495,\n",
       " 0.0050778752,\n",
       " 0.0075944201,\n",
       " 0.0060721883,\n",
       " 0.0058763241,\n",
       " 0.0066177063,\n",
       " 0.0055343206,\n",
       " 0.0052381405,\n",
       " 0.0063081328,\n",
       " 0.0062680896,\n",
       " 0.0056896424,\n",
       " 0.0063056056,\n",
       " 0.0049089855,\n",
       " 0.0055118161,\n",
       " 0.0053732591,\n",
       " 0.0054354072,\n",
       " 0.0053608879,\n",
       " 0.0057633952,\n",
       " 0.0053190119,\n",
       " 0.0060175029]"
      ]
     },
     "execution_count": 36,
     "metadata": {},
     "output_type": "execute_result"
    }
   ],
   "source": [
    "train(10, 20000, 128, dataloader, save_path='./Models')"
   ]
  },
  {
   "cell_type": "code",
   "execution_count": 37,
   "metadata": {
    "collapsed": false
   },
   "outputs": [],
   "source": [
    "def load_model(encode_dim, noise_dim=0, loadpath='./'):\n",
    "    \n",
    "    encoder = GeomEncoder(encode_dim, 1, 64, 64)\n",
    "    decoder = GeomDecoder(encode_dim, 0, 1, 64, 64)\n",
    "    encoder.load_state_dict(torch.load(loadpath + '/encoder_net.pth'))\n",
    "    decoder.load_state_dict(torch.load(loadpath + '/decoder_net.pth'))\n",
    "    \n",
    "    return encoder, decoder"
   ]
  },
  {
   "cell_type": "code",
   "execution_count": 38,
   "metadata": {
    "collapsed": false
   },
   "outputs": [
    {
     "data": {
      "text/plain": [
       "GeomDecoder(\n",
       "  (initial): TConvSet(\n",
       "    (convSet): Sequential(\n",
       "      (initial.10-512.transconv): ConvTranspose2d(10, 512, kernel_size=(4, 4), stride=(1, 1), bias=False)\n",
       "      (initial.512.batchnorm): BatchNorm2d(512, eps=1e-05, momentum=0.1, affine=True)\n",
       "      (initial.512.ReLU): ReLU(inplace)\n",
       "    )\n",
       "  )\n",
       "  (decoder): Sequential(\n",
       "    (pyramid_1.512-256.transconv): ConvTranspose2d(512, 256, kernel_size=(4, 4), stride=(2, 2), padding=(1, 1), bias=False)\n",
       "    (pyramid_1.256.batchnorm): BatchNorm2d(256, eps=1e-05, momentum=0.1, affine=True)\n",
       "    (pyramid_1.256.ReLU): ReLU(inplace)\n",
       "    (pyramid_2.256-128.transconv): ConvTranspose2d(256, 128, kernel_size=(4, 4), stride=(2, 2), padding=(1, 1), bias=False)\n",
       "    (pyramid_2.128.batchnorm): BatchNorm2d(128, eps=1e-05, momentum=0.1, affine=True)\n",
       "    (pyramid_2.128.ReLU): ReLU(inplace)\n",
       "    (pyramid_3.128-64.transconv): ConvTranspose2d(128, 64, kernel_size=(4, 4), stride=(2, 2), padding=(1, 1), bias=False)\n",
       "    (pyramid_3.64.batchnorm): BatchNorm2d(64, eps=1e-05, momentum=0.1, affine=True)\n",
       "    (pyramid_3.64.ReLU): ReLU(inplace)\n",
       "    (final_layer.64-1.transconv): ConvTranspose2d(64, 1, kernel_size=(4, 4), stride=(2, 2), padding=(1, 1), bias=False)\n",
       "    (final_layer.1.batchnorm): BatchNorm2d(1, eps=1e-05, momentum=0.1, affine=True)\n",
       "    (final_layer.1.ReLU): ReLU(inplace)\n",
       "  )\n",
       ")"
      ]
     },
     "execution_count": 38,
     "metadata": {},
     "output_type": "execute_result"
    }
   ],
   "source": [
    "encoder, decoder = load_model(encode_dim=10, loadpath=\"/home/zhaocheng/Research/DeepOpticsV2/GeomGenerator/Models/18000\")\n",
    "encoder.cuda()\n",
    "decoder.cuda()"
   ]
  },
  {
   "cell_type": "code",
   "execution_count": 120,
   "metadata": {
    "collapsed": false
   },
   "outputs": [
    {
     "name": "stdout",
     "output_type": "stream",
     "text": [
      "Variable containing:\n",
      "-0.0050 -0.3153  1.5311  ...   0.4010 -0.3877 -0.7968\n",
      "-0.3450 -0.8580 -0.9402  ...  -0.4913 -1.1406  1.0778\n",
      "-1.7939 -2.4345  0.0230  ...  -0.8947 -1.4143 -2.0140\n",
      "          ...             ⋱             ...          \n",
      "-1.3286 -1.9425  1.1320  ...   0.3551  1.6288 -0.5600\n",
      " 0.6570 -1.4196 -0.1883  ...  -1.2224  1.9462 -2.4900\n",
      "-1.8160  0.0480  0.9738  ...  -0.8542 -2.0262 -0.2787\n",
      "[torch.cuda.FloatTensor of size 128x10 (GPU 0)]\n",
      "\n",
      "[[-0.00500587 -0.31528282  1.53109717 ...,  0.40103978 -0.38766012\n",
      "  -0.79675519]\n",
      " [-0.34500268 -0.85801649 -0.9402051  ..., -0.4912774  -1.14058185\n",
      "   1.07781792]\n",
      " [-1.79387796 -2.43451428  0.02302435 ..., -0.89473218 -1.41428971\n",
      "  -2.01401234]\n",
      " ..., \n",
      " [-1.32863319 -1.94246292  1.13204026 ...,  0.35508212  1.62875056\n",
      "  -0.56003934]\n",
      " [ 0.65703112 -1.41960216 -0.18833512 ..., -1.22238243  1.94623899\n",
      "  -2.49004412]\n",
      " [-1.81604731  0.04801644  0.97379637 ..., -0.85420161 -2.0262177\n",
      "  -0.27869701]]\n",
      "Variable containing:\n",
      "-0.6593 -0.3309 -0.0759 -1.1343 -0.1074 -0.4417  0.3088 -0.8890  0.4056  0.0303\n",
      "[torch.cuda.FloatTensor of size 1x10 (GPU 0)]\n",
      "\n"
     ]
    }
   ],
   "source": [
    "dataiter = dataloader.dataloader(128)\n",
    "input_data = Variable(next(dataiter).cuda(), requires_grad=False)\n",
    "latent = encoder(input_data)\n",
    "print(latent)\n",
    "z = latent.cpu().data.numpy()\n",
    "print(z)\n",
    "z1 = torch.mean(latent, 0, True) * 1\n",
    "print(z1)"
   ]
  },
  {
   "cell_type": "code",
   "execution_count": 126,
   "metadata": {
    "collapsed": false
   },
   "outputs": [
    {
     "name": "stdout",
     "output_type": "stream",
     "text": [
      "Variable containing:\n",
      "(0 ,0 ,.,.) = \n",
      "  0.2983  0.2231  0.2930  ...   1.0904  1.0995  0.4397\n",
      "  0.9655  0.9533  1.0010  ...   1.0933  1.1171  0.2034\n",
      "  0.8054  0.7816  0.8760  ...   1.0947  1.1048  0.2561\n",
      "           ...             ⋱             ...          \n",
      "  0.6344  0.3898  0.6864  ...   1.0968  1.0933  0.7986\n",
      "  0.6101  0.4226  0.6386  ...   1.0682  0.9996  0.5552\n",
      "  0.8132  0.6761  0.8524  ...   1.0892  1.0219  0.6110\n",
      "[torch.cuda.FloatTensor of size 1x1x64x64 (GPU 0)]\n",
      "\n"
     ]
    },
    {
     "data": {
      "image/png": "[encoded data removed]",
      "text/plain": [
       "<matplotlib.figure.Figure at 0x7f5bdf44f630>"
      ]
     },
     "metadata": {},
     "output_type": "display_data"
    }
   ],
   "source": [
    "# output = decoder(latent)\n",
    "output = decoder(z1*0.01)\n",
    "print(output)\n",
    "img = output.cpu().data[0,0,:,:]\n",
    "img.clamp_(0,1)\n",
    "img = img.numpy()\n",
    "img = recover_img(img, True)\n",
    "# print(img)\n",
    "# plt.imshow(img)\n",
    "output2 = decoder(latent)\n",
    "imgs = [img]\n",
    "for i in range(5):\n",
    "    img = output2.cpu().data[i,0,:,:]\n",
    "    img.clamp_(0,1)\n",
    "    img = img.numpy()\n",
    "    imgs.append(recover_img(img, True))\n",
    "#     plt.imshow(img)\n",
    "for i in range(6):\n",
    "    plt.subplot(1,6,i+1)\n",
    "    plt.imshow(imgs[i])\n",
    "    \n",
    "plt.show()"
   ]
  },
  {
   "cell_type": "code",
   "execution_count": null,
   "metadata": {
    "collapsed": true
   },
   "outputs": [],
   "source": []
  },
  {
   "cell_type": "code",
   "execution_count": null,
   "metadata": {
    "collapsed": true
   },
   "outputs": [],
   "source": []
  }
 ],
 "metadata": {
  "kernelspec": {
   "display_name": "Python 3",
   "language": "python",
   "name": "python3"
  },
  "language_info": {
   "codemirror_mode": {
    "name": "ipython",
    "version": 3
   },
   "file_extension": ".py",
   "mimetype": "text/x-python",
   "name": "python",
   "nbconvert_exporter": "python",
   "pygments_lexer": "ipython3",
   "version": "3.6.1"
  }
 },
 "nbformat": 4,
 "nbformat_minor": 2
}
