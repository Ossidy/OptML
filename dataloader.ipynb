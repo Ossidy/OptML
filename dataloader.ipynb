{
 "cells": [
  {
   "cell_type": "code",
   "execution_count": 1,
   "metadata": {
    "collapsed": true
   },
   "outputs": [],
   "source": [
    "import cv2\n",
    "import numpy as np \n",
    "import random\n",
    "import glob\n",
    "import torch \n",
    "import matplotlib.pyplot as plt \n",
    "from matplotlib import colors\n",
    "import matplotlib as mpl \n",
    "from scipy.interpolate import UnivariateSpline, InterpolatedUnivariateSpline\n",
    "%matplotlib inline\n"
   ]
  },
  {
   "cell_type": "code",
   "execution_count": 2,
   "metadata": {
    "collapsed": true
   },
   "outputs": [],
   "source": [
    "def read_img(filepath):\n",
    "\timg = cv2.imread(filepath,0)\n",
    "\treturn img \n",
    "def show_img(img):\n",
    "# \tcv2.imshow('image',img)\n",
    "# \tcv2.waitKey(0)\n",
    "# \tcv2.destroyAllWindows()\n",
    "    plt.imshow(img)"
   ]
  },
  {
   "cell_type": "code",
   "execution_count": 3,
   "metadata": {
    "collapsed": true
   },
   "outputs": [],
   "source": [
    "test_path = \"/home/zhaocheng/Research/DeepOpticsV2/GeomData/GeomData/1.png\""
   ]
  },
  {
   "cell_type": "code",
   "execution_count": 6,
   "metadata": {
    "collapsed": false
   },
   "outputs": [
    {
     "data": {
      "image/png": "[encoded data removed]",
      "text/plain": [
       "<matplotlib.figure.Figure at 0x7f8c15e061d0>"
      ]
     },
     "metadata": {},
     "output_type": "display_data"
    }
   ],
   "source": [
    "img = read_img(test_path)\n",
    "show_img(img)\n",
    "# print(img)"
   ]
  },
  {
   "cell_type": "code",
   "execution_count": 145,
   "metadata": {
    "collapsed": false
   },
   "outputs": [],
   "source": [
    "class DataLoader():\n",
    "    def __init__(self, file_path, mode='all_file'):\n",
    "        # a dataloader that reads all data into RAM for best performance\n",
    "        # only valid for small dataset\n",
    "        \n",
    "        self.file_path = file_path\n",
    "        self.mode = mode\n",
    "        \n",
    "        # build blobs first\n",
    "        self.data_names, _, self.data_names_with_extenstion = self._get_all_names(self.file_path)\n",
    "        \n",
    "        if self.mode == 'all_file':\n",
    "            self.blobs = self._build_blobs(self.file_path)\n",
    "        else:\n",
    "            raise NotImplementedError\n",
    "        \n",
    "        \n",
    "    def dataloader(self, batchsize, repeatition=-1, transform=True,):\n",
    "        # iterator to yeild data as needed \n",
    "        # \n",
    "        blobs_to_use = []\n",
    "        \n",
    "        while repeatition:\n",
    "            random.shuffle(self.blobs)\n",
    "            blobs_to_use.extend(self.blobs)\n",
    "            len_blobs = len(blobs_to_use)\n",
    "            \n",
    "            for i in range(len_blobs // batchsize):\n",
    "                # build data format as needed here.\n",
    "                outdata = []\n",
    "                \n",
    "                for j in range(batchsize):\n",
    "                    blob = blobs_to_use[i * batchsize + j]\n",
    "#                     print(blob)\n",
    "                    pattern = blob['pattern']\n",
    "                    \n",
    "                    # shift images, disable when training the autoencoder\n",
    "#                     pattern, _ = self.shift_img(pattern, fx=1, fy=1, random=True)\n",
    "                    \n",
    "                    # rotate images\n",
    "                    rot_angles = [0, 90, 180, 270]\n",
    "                    angle = np.random.choice(rot_angles)\n",
    "                    pattern, _ = self.rotate_img(pattern, angle, random=False)\n",
    "                    \n",
    "                    # flip images\n",
    "                    pattern, _ = self.flip_img(pattern, random=True)\n",
    "                    \n",
    "                    # append to output datalist\n",
    "                    outdata.append(pattern)\n",
    "                    outdata_np = np.array(outdata)\n",
    "                print(np.array(outdata).shape)\n",
    "#                 outdata_ts = torch.FloatTensor(outdata)\n",
    "                outdata_ts = torch.from_numpy(outdata_np)\n",
    "                \n",
    "                    # add extra 1 dim at output for this is gray scale imgs\n",
    "                yield outdata_ts.unsqueeze(1)\n",
    "            \n",
    "            res_num = (len_blobs % (len_blobs // batchsize))\n",
    "            \n",
    "            if res_num == 0:\n",
    "                blobs_to_use = []\n",
    "            else:\n",
    "                blobs_to_use = blobs_to_use[-(len_blobs % (len_blobs // batchsize)):]\n",
    "            \n",
    "            repeatition -= 1\n",
    "    \n",
    "    def get_blobs(self):\n",
    "        \n",
    "        return self.blobs\n",
    "        \n",
    "        \n",
    "    def _build_blob(self, data_dir, data_name=None):\n",
    "        # util functions to build blob of data\n",
    "        # should be defined as desired\n",
    "        # the blob is a dict with keys such as \n",
    "        #     'name', 'img_data', 'label', and additional requirement\n",
    "        # 'name' is not a must but in current task it is better to adopt\n",
    "        \n",
    "        if data_name != None:\n",
    "            img_path = data_dir + '/' + data_name + '.png'\n",
    "        else:\n",
    "            img_path = data_dir\n",
    "        img = self._read_img(img_path)\n",
    "        \n",
    "        # construct blob\n",
    "        blob = {}\n",
    "        blob['name'] = data_name\n",
    "        blob['pattern'] = img\n",
    "        \n",
    "        return blob\n",
    "    \n",
    "    def _build_blobs(self, data_dir):\n",
    "        # build blobs of all data in the directory, ensenbled in a list\n",
    "        # [blob1, blob2, blob3 ...]\n",
    "        # should be defined as desired \n",
    "        \n",
    "        file_names = self._get_all_names(data_dir)[0]\n",
    "        \n",
    "        blobs = []\n",
    "        for name in file_names:\n",
    "            blobs.append(self._build_blob(data_dir, name))\n",
    "        \n",
    "        return blobs\n",
    "        \n",
    "        \n",
    "    def _get_all_names(self, directory, extension='.png'):\n",
    "        # get all file names in the directory\n",
    "        \n",
    "        file_paths = glob.glob(directory + '/*' + extension)\n",
    "        file_names = [item[len(directory)+1:-len(extension)] for item in file_paths]\n",
    "        file_names_with_extension = [item[len(directory)+1:] for item in file_paths]\n",
    "        \n",
    "        return file_names, file_paths, file_names_with_extension\n",
    "        \n",
    "        \n",
    "    def _read_img(self, img_path, mode='grayscale'):\n",
    "        # return the img as numpy array\n",
    "        \n",
    "        if mode=='grayscale':\n",
    "            img = cv2.imread(img_path, 0)\n",
    "        else:\n",
    "            # RGB mode\n",
    "            img = cv2.imread(img_path)\n",
    "        return img\n",
    "    \n",
    "    def _show_img(self, img):\n",
    "        plt.imshow(img)\n",
    "    \n",
    "    \n",
    "    \n",
    "    def shift_img(self, img, fx=0.5, fy=0.5, random=True):\n",
    "        # shift images with periodic boundary condition (with max fx and fy defined as args if random==True)\n",
    "        # ONLY for grayscaled images]\n",
    "        \n",
    "        if random == True:\n",
    "            fx, fy = np.random.uniform(0, 1) * fx, np.random.uniform(0, 1) * fy\n",
    "\n",
    "        size = img.shape[0]\n",
    "        sx, sy = int(size*fx), int(size*fy)\n",
    "\n",
    "        canvas = -1 * np.ones(shape=(64,64))\n",
    "\n",
    "        # shift x direction first\n",
    "        i1 = img[:sx,:sy]\n",
    "        i2 = img[sx:,:sy]\n",
    "        i3 = img[:sx,sy:]\n",
    "        i4 = img[sx:,sy:]\n",
    "\n",
    "        canvas[:(size-sx),:(size-sy)] = i4\n",
    "        canvas[:(size-sx),(size-sy):] = i2\n",
    "        canvas[(size-sx):,(size-sy):] = i1\n",
    "        canvas[(size-sx):,:(size-sy)] = i3\n",
    "        \n",
    "        return canvas, (sx, sy)\n",
    "    \n",
    "    def rotate_img(self, img, angle, random=False):\n",
    "        # rotate images WITHOUT periodic boundary condition (with max angle defined as arg if random==True)\n",
    "        # need further revision to adapt period boundary condition or have judgement on special cases\n",
    "        \n",
    "        if angle < 0:\n",
    "            raise ValueError(\"Angle should be greater than 0!!!\")\n",
    "        \n",
    "        if random:\n",
    "            angle = np.random.uniform(0, angle)\n",
    "        \n",
    "        rows, cols = img.shape\n",
    "        M = cv2.getRotationMatrix2D((cols/2,rows/2), angle,1)\n",
    "        pattern = cv2.warpAffine(img, M, (cols, rows)) \n",
    "        \n",
    "        return pattern, angle\n",
    "            \n",
    "    def flip_img(self, img, axis=1, random=False):\n",
    "        # flip image. If random==True, randomly flip with axis = 1 or 2\n",
    "        \n",
    "        if random:\n",
    "            if np.random.uniform() > 0.5:\n",
    "                axis = 1\n",
    "            else:\n",
    "                axis = 2            \n",
    "        pattern = cv2.flip(img, axis)\n",
    "        \n",
    "        return pattern, axis\n",
    "    \n",
    "    def add_noise(self, img, p=None, w=0.2):\n",
    "        # add image with uniform distributed noise\n",
    "        # p is the mean of the noise and w is the amplitude of the noise \n",
    "        \n",
    "        if p == None:\n",
    "            # mode 1, randonize the image from -1 to 1\n",
    "            img_randnize = np.random.rand(img.shape[0], img.shape[1])\n",
    "            img_randnize[img<0] = -img_randnize[img<0]\n",
    "        else:\n",
    "            # assert p < 1 and p > 0, \"p is the mean of the \"\n",
    "            p = np.random.rand()\n",
    "            img_randnize = np.random.rand(img.shape[0], img.shape[1]) * w\n",
    "            img_randnize = img_randnize + p\n",
    "            img_randnize[img_randnize > 1] = 1\n",
    "            img_randnize[img_randnize < 0] = 0\n",
    "            img_randnize[img < 0] = -img_randnize[img < 0]\n",
    "            \n",
    "        return img_randnize \n",
    "        "
   ]
  },
  {
   "cell_type": "code",
   "execution_count": 146,
   "metadata": {
    "collapsed": false
   },
   "outputs": [],
   "source": [
    "data_path = \"/home/zhaocheng/Research/DeepOpticsV2/GeomData/arc\"\n",
    "dataloader = DataLoader(file_path=data_path, mode='all_file')"
   ]
  },
  {
   "cell_type": "code",
   "execution_count": 147,
   "metadata": {
    "collapsed": false
   },
   "outputs": [
    {
     "data": {
      "text/plain": [
       "{'name': 'Arc27', 'pattern': array([[255, 255, 255, ..., 255, 255, 255],\n",
       "        [255, 255, 255, ..., 255, 255, 255],\n",
       "        [255, 255, 255, ..., 255, 255, 255],\n",
       "        ..., \n",
       "        [255, 255, 255, ..., 255, 255, 255],\n",
       "        [255, 255, 255, ..., 255, 255, 255],\n",
       "        [255, 255, 255, ..., 255, 255, 255]], dtype=uint8)}"
      ]
     },
     "execution_count": 147,
     "metadata": {},
     "output_type": "execute_result"
    }
   ],
   "source": [
    "dataloader.get_blobs()[0]"
   ]
  },
  {
   "cell_type": "code",
   "execution_count": 148,
   "metadata": {
    "collapsed": false
   },
   "outputs": [
    {
     "name": "stdout",
     "output_type": "stream",
     "text": [
      "(16, 64, 64)\n"
     ]
    },
    {
     "data": {
      "text/plain": [
       "\n",
       "(0 ,0 ,.,.) = \n",
       "  255  255  255  ...   255  255    0\n",
       "  255  255  255  ...   255  255    0\n",
       "  255  255  255  ...   255  255    0\n",
       "      ...         ⋱        ...      \n",
       "  255  255  255  ...   255  255    0\n",
       "  255  255  255  ...   255  255    0\n",
       "  255  255  255  ...   255  255    0\n",
       "     ⋮ \n",
       "\n",
       "(1 ,0 ,.,.) = \n",
       "  255  255  255  ...   255  255  255\n",
       "  255  255  255  ...   255  255  255\n",
       "  255  255  255  ...   255  255  255\n",
       "      ...         ⋱        ...      \n",
       "  255  255  255  ...   255  255  255\n",
       "  255  255  255  ...   255  255  255\n",
       "  255  255  255  ...   255  255  255\n",
       "     ⋮ \n",
       "\n",
       "(2 ,0 ,.,.) = \n",
       "    0    0    0  ...     0    0    0\n",
       "  255  255  255  ...   255  255  255\n",
       "  255  255  255  ...   255  255  255\n",
       "      ...         ⋱        ...      \n",
       "  255  255  255  ...   255  255  255\n",
       "  255  255  255  ...   255  255  255\n",
       "  255  255  255  ...   255  255  255\n",
       "...   \n",
       "     ⋮ \n",
       "\n",
       "(13,0 ,.,.) = \n",
       "  255  255  255  ...   255  255    0\n",
       "  255  255  255  ...   255  255    0\n",
       "  255  255  255  ...   255  255    0\n",
       "      ...         ⋱        ...      \n",
       "  255  255  255  ...   255  255    0\n",
       "  255  255  255  ...   255  255    0\n",
       "  255  255  255  ...   255  255    0\n",
       "     ⋮ \n",
       "\n",
       "(14,0 ,.,.) = \n",
       "  255  255  255  ...   255  255    0\n",
       "  255  255  255  ...   255  255    0\n",
       "  255  255  255  ...   255  255    0\n",
       "      ...         ⋱        ...      \n",
       "  255  255  255  ...   255  255    0\n",
       "  255  255  255  ...   255  255    0\n",
       "  255  255  255  ...   255  255    0\n",
       "     ⋮ \n",
       "\n",
       "(15,0 ,.,.) = \n",
       "    0    0    0  ...     0    0    0\n",
       "  255  255  255  ...   255  255    0\n",
       "  255  255  255  ...   255  255    0\n",
       "      ...         ⋱        ...      \n",
       "  255  255  255  ...   255  255    0\n",
       "  255  255  255  ...   255  255    0\n",
       "  255  255  255  ...   255  255    0\n",
       "[torch.ByteTensor of size 16x1x64x64]"
      ]
     },
     "execution_count": 148,
     "metadata": {},
     "output_type": "execute_result"
    }
   ],
   "source": [
    "dataiter = dataloader.dataloader(batchsize=16, repeatition=-1, transform=True)\n",
    "next(dataiter)"
   ]
  },
  {
   "cell_type": "code",
   "execution_count": 153,
   "metadata": {
    "collapsed": false
   },
   "outputs": [
    {
     "name": "stdout",
     "output_type": "stream",
     "text": [
      "(16, 64, 64)\n"
     ]
    },
    {
     "data": {
      "text/plain": [
       "<matplotlib.image.AxesImage at 0x7f8c01739390>"
      ]
     },
     "execution_count": 153,
     "metadata": {},
     "output_type": "execute_result"
    },
    {
     "data": {
      "image/png": "[encoded data removed]",
      "text/plain": [
       "<matplotlib.figure.Figure at 0x7f8c01759f98>"
      ]
     },
     "metadata": {},
     "output_type": "display_data"
    }
   ],
   "source": [
    "img = next(dataiter).numpy()[0,0,:,:]\n",
    "plt.imshow(img)"
   ]
  },
  {
   "cell_type": "code",
   "execution_count": null,
   "metadata": {
    "collapsed": true
   },
   "outputs": [],
   "source": []
  }
 ],
 "metadata": {
  "kernelspec": {
   "display_name": "Python 3",
   "language": "python",
   "name": "python3"
  },
  "language_info": {
   "codemirror_mode": {
    "name": "ipython",
    "version": 3
   },
   "file_extension": ".py",
   "mimetype": "text/x-python",
   "name": "python",
   "nbconvert_exporter": "python",
   "pygments_lexer": "ipython3",
   "version": "3.6.1"
  }
 },
 "nbformat": 4,
 "nbformat_minor": 2
}
